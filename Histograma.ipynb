{
 "cells": [
  {
   "cell_type": "code",
   "execution_count": 138,
   "id": "0e874521-f0f2-4f3c-881a-4ccf55dac471",
   "metadata": {},
   "outputs": [],
   "source": [
    "%matplotlib inline\n",
    "# Sistema Massa-mola"
   ]
  },
  {
   "cell_type": "code",
   "execution_count": 139,
   "id": "8282d069-fb92-4413-9e2f-c4668be6a971",
   "metadata": {},
   "outputs": [],
   "source": [
    "import numpy as np\n",
    "#import scipy\n",
    "from scipy.stats import norm\n",
    "import matplotlib\n",
    "import matplotlib.pyplot as plt"
   ]
  },
  {
   "cell_type": "markdown",
   "id": "9b1d6e67-cf56-4594-895c-7ea569f1c74c",
   "metadata": {},
   "source": [
    "## Ajuste Gaussiana"
   ]
  },
  {
   "cell_type": "code",
   "execution_count": 140,
   "id": "a312c9c5-9915-45f0-b3c4-e2cdf8d42c73",
   "metadata": {},
   "outputs": [],
   "source": [
    "data=np.loadtxt('files/periodo.csv', delimiter=',', skiprows=1)\n",
    "pexp=hist[:,0]\n",
    "hexp=hist[:,1]/np.sum(hist[:,1]) # dados normalizados\n",
    "Npontos=100"
   ]
  },
  {
   "cell_type": "code",
   "execution_count": 141,
   "id": "2cd0136f",
   "metadata": {},
   "outputs": [],
   "source": [
    "p = np.linspace(pexp[0], pexp[-1], num=20) # np.arange(pexp[0], 3.403, 0.0001)"
   ]
  },
  {
   "cell_type": "code",
   "execution_count": 142,
   "id": "957fbb21",
   "metadata": {},
   "outputs": [
    {
     "data": {
      "text/plain": [
       "array([3.49943256e-14, 4.93808479e-14, 6.95583892e-14, 9.78071378e-14,\n",
       "       1.37284543e-13, 1.92354697e-13, 2.69038237e-13, 3.75625684e-13,\n",
       "       5.23511964e-13, 7.28329671e-13, 1.01148502e-12, 1.40223552e-12,\n",
       "       1.94049503e-12, 2.68061328e-12, 3.69645866e-12, 5.08824018e-12,\n",
       "       6.99164569e-12, 9.59005902e-12, 1.31308611e-11, 1.79471377e-11])"
      ]
     },
     "execution_count": 142,
     "metadata": {},
     "output_type": "execute_result"
    }
   ],
   "source": [
    "def Dn(x,a,b,c):\n",
    "    return a*c*norm.pdf(x,b,c)      # The size or shape of your array\n",
    "#    return a/c/np.sqrt(2*np.pi)*norm.pdf(x,b,c)      # The size or shape of your array\n",
    "\n",
    "q=Dn(p,35, 3.41, 0.001)\n",
    "q"
   ]
  },
  {
   "cell_type": "markdown",
   "id": "47c03697-35aa-4708-b59c-d654b78be2cc",
   "metadata": {},
   "source": [
    "### Ajuste Manual"
   ]
  },
  {
   "cell_type": "code",
   "execution_count": 143,
   "id": "bbbb2e9f-7549-4521-96a7-f8991ba05b0f",
   "metadata": {},
   "outputs": [
    {
     "data": {
      "image/png": "[encoded data removed]",
      "text/plain": [
       "<Figure size 432x288 with 1 Axes>"
      ]
     },
     "metadata": {
      "needs_background": "light"
     },
     "output_type": "display_data"
    }
   ],
   "source": [
    "amp=1.\n",
    "mn=3.4022\n",
    "sg=0.0002\n",
    "plt.plot(pexp, hexp, 'o', label='Exp')\n",
    "plt.plot(p, Dn(p,amp,mn,sg), label='Fit')\n",
    "#plt.plot(p, Dn(p,35, 3.041, 0.001), label='Fit')\n",
    "plt.legend()\n",
    "plt.show()"
   ]
  },
  {
   "cell_type": "markdown",
   "id": "87762cfc",
   "metadata": {},
   "source": [
    "# Fit automático\n",
    "$FWHM = 2 \\sqrt{2 \\ln(2)}\\,\\, \\sigma$"
   ]
  },
  {
   "cell_type": "code",
   "execution_count": 144,
   "id": "fb50210b-f715-452d-8ee5-278030dd5e8c",
   "metadata": {},
   "outputs": [
    {
     "name": "stdout",
     "output_type": "stream",
     "text": [
      "popt: amp=0.580802, mean=3.40226, std=6.51108e-05\n",
      "Erro dos parametros (perr): [5.08955383e-02 6.58903787e-06 6.58897207e-06]\n",
      "FWHM= 0.000153324 s\n"
     ]
    }
   ],
   "source": [
    "from scipy.optimize import curve_fit\n",
    "#       amp, mean, sigma\n",
    "guess = [1, 3.4022, 0.0002]\n",
    "\n",
    "popt, pcov = curve_fit(Dn, pexp, hexp, p0=guess)\n",
    "#The optimised parameters of the fit\n",
    "print(\"popt: amp=%g, mean=%g, std=%g\" %(popt[0], popt[1], popt[2]))\n",
    "#One standard deviation errors on the parameters.\n",
    "perr = np.sqrt(np.diag(pcov))\n",
    "print(\"Erro dos parametros (perr):\", perr)\n",
    "# The covariance matrix of the parameters\n",
    "# print(\"pcov:\", pcov)\n",
    "print(\"FWHM= %g s\" %(2*np.sqrt(2*np.log(2))*popt[2]))"
   ]
  },
  {
   "cell_type": "code",
   "execution_count": 145,
   "id": "a05147af",
   "metadata": {},
   "outputs": [],
   "source": [
    "# Grafico Ajuste"
   ]
  },
  {
   "cell_type": "code",
   "execution_count": 146,
   "id": "f02c8011",
   "metadata": {},
   "outputs": [
    {
     "data": {
      "image/png": "[encoded data removed]",
      "text/plain": [
       "<Figure size 432x288 with 1 Axes>"
      ]
     },
     "metadata": {
      "needs_background": "light"
     },
     "output_type": "display_data"
    }
   ],
   "source": [
    "plt.plot(pexp, hexp, 'o', label='Exp')\n",
    "plt.plot(p, Dn(p,*popt), label='Fit')\n",
    "plt.legend()\n",
    "plt.show()"
   ]
  }
 ],
 "metadata": {
  "kernelspec": {
   "display_name": "Python 3 (ipykernel)",
   "language": "python",
   "name": "python3"
  },
  "language_info": {
   "codemirror_mode": {
    "name": "ipython",
    "version": 3
   },
   "file_extension": ".py",
   "mimetype": "text/x-python",
   "name": "python",
   "nbconvert_exporter": "python",
   "pygments_lexer": "ipython3",
   "version": "3.9.10"
  }
 },
 "nbformat": 4,
 "nbformat_minor": 5
}
