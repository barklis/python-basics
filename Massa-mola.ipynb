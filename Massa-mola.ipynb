{
 "cells": [
  {
   "cell_type": "code",
   "execution_count": null,
   "id": "0e874521-f0f2-4f3c-881a-4ccf55dac471",
   "metadata": {},
   "outputs": [],
   "source": [
    "%matplotlib inline\n",
    "# Sistema Massa-mola"
   ]
  },
  {
   "cell_type": "code",
   "execution_count": null,
   "id": "8282d069-fb92-4413-9e2f-c4668be6a971",
   "metadata": {},
   "outputs": [],
   "source": [
    "import numpy as np\n",
    "import scipy\n",
    "import matplotlib\n",
    "import matplotlib.pyplot as plt\n",
    "from ipywidgets import interact, interactive, fixed, interact_manual"
   ]
  },
  {
   "cell_type": "markdown",
   "id": "satellite-stream",
   "metadata": {},
   "source": [
    "# Dados Experimentais"
   ]
  },
  {
   "cell_type": "code",
   "execution_count": null,
   "id": "bearing-purple",
   "metadata": {},
   "outputs": [],
   "source": [
    "data=np.loadtxt('files/m150_vermelha_agua.csv', delimiter=',', skiprows=2)\n",
    "\n",
    "texp=data[:,0]\n",
    "yexp=data[:,2]\n",
    "# yexp.shape"
   ]
  },
  {
   "cell_type": "markdown",
   "id": "9b1d6e67-cf56-4594-895c-7ea569f1c74c",
   "metadata": {},
   "source": [
    "## Ajuste Manual Sinosoidal Amortecida"
   ]
  },
  {
   "cell_type": "code",
   "execution_count": null,
   "id": "a312c9c5-9915-45f0-b3c4-e2cdf8d42c73",
   "metadata": {},
   "outputs": [],
   "source": [
    "def Fsina(t,A,L,W,P,O):\n",
    "    return A*np.exp(-L*t)*np.sin(W*t + P) + O\n",
    "#Amplitude\n",
    "def Famp(x,A,L,W,P,O):\n",
    "    return A*np.exp(-L*x) + O"
   ]
  },
  {
   "cell_type": "markdown",
   "id": "47c03697-35aa-4708-b59c-d654b78be2cc",
   "metadata": {},
   "source": [
    "### Dados simulados"
   ]
  },
  {
   "cell_type": "code",
   "execution_count": null,
   "id": "bbbb2e9f-7549-4521-96a7-f8991ba05b0f",
   "metadata": {},
   "outputs": [],
   "source": [
    "Npontos=100\n",
    "t = np.linspace(0, 10, num=Npontos) # np.arange(pexp[0], 3.403, 0.0001)\n",
    "#t.shape[0]\n",
    "#rng = np.random.default_rng()\n",
    "A=1.4\n",
    "om = 2*np.pi /0.85\n",
    "lbd = 1.0/10\n",
    "ph=3.14\n",
    "of=-0.2\n",
    "y = Fsina(t,A,lbd, om, ph, of)\n",
    "#np.exp(-t*lbd)* np.sin(om * t) + 0.01*rng.random(Npontos)3.14"
   ]
  },
  {
   "cell_type": "code",
   "execution_count": null,
   "id": "residential-living",
   "metadata": {},
   "outputs": [],
   "source": [
    "off=-0.2  # Offset\n",
    "def ajustM(A=1.5, l=0.2, w=5.0,  p=3.0,):\n",
    "    y= Fsina(t,A,l, w, p, off)\n",
    "    plt.plot(texp, yexp, label='M 150g')\n",
    "    plt.plot(t, y, 'r')\n",
    "    plt.show()\n",
    "    return y\n",
    "#interactive(noisy_sine, alpha=(0.0, 1.0))\n",
    "interactive(ajustM, A=(0, 3, 0.1), l=(0.1,0.5, 0.05), w=(1,20,0.2), p=(0,3.))\n",
    "#interact(ajustM, w=(1,20), A=fixed(1.4));\n",
    "# display(w)"
   ]
  },
  {
   "cell_type": "markdown",
   "id": "promotional-knowing",
   "metadata": {},
   "source": [
    "#plt.plot(t, y, 'o', label='Seno amortecido')\n",
    "plt.plot(texp, yexp, label='M 150g')\n",
    "plt.plot(t, y, 'r',label='AJU')\n",
    "\n",
    "plt.plot(t, Famp(t,A,lbd, om, ph, of), 'o', label='Amplitude')\n",
    "plt.legend()\n",
    "plt.xlabel('T/s')\n",
    "plt.show()"
   ]
  },
  {
   "cell_type": "markdown",
   "id": "339e598d-2ea6-475d-809f-3d4af5f5b756",
   "metadata": {},
   "source": [
    "### Funcao de Ajuste"
   ]
  },
  {
   "cell_type": "code",
   "execution_count": null,
   "id": "1fd50a64-f755-4c08-8993-17f741d1a744",
   "metadata": {},
   "outputs": [],
   "source": [
    "from scipy.optimize import curve_fit\n",
    "guess = [1.0, 0.1, 2*np.pi/2.0, 3.0, 0]\n",
    "popt, pcov = curve_fit(Fsina, texp, yexp, p0=guess)\n",
    "#The optimised parameters of the fit\n",
    "print(\"popt: A=%g, Lambda=%g, W=%g, Phase=%g, Off=%g\" %(popt[0], popt[1], popt[2], popt[3], popt[4]))\n",
    "#One standard deviation errors on the parameters.\n",
    "perr = np.sqrt(np.diag(pcov))\n",
    "print(\"perr:\", perr)\n",
    "#The covariance matrix of the parameters\n",
    "#print(\"pcov:\", pcov)\n",
    "print(\"1/Lambda: %g s\" %(1.0/popt[1]))\n",
    "print(\"Omega: %g s-1, T= %g s\" %(popt[2], 2*np.pi/popt[2]))"
   ]
  },
  {
   "cell_type": "code",
   "execution_count": null,
   "id": "c598df78-04ed-4124-822c-d64e40b45578",
   "metadata": {},
   "outputs": [],
   "source": [
    "plt.plot(texp, yexp, label='M 150g')\n",
    "plt.plot(t, Fsina(t, *popt),'r', label='Sin fit')\n",
    "plt.legend()\n",
    "plt.show()"
   ]
  },
  {
   "cell_type": "markdown",
   "id": "fc7dca52",
   "metadata": {},
   "source": [
    "# Ressonância"
   ]
  },
  {
   "cell_type": "code",
   "execution_count": null,
   "id": "9683f4be",
   "metadata": {},
   "outputs": [],
   "source": [
    "f = np.array([0.138, 0.123, 0.116, 0.125, 0.116])\n",
    "a = np.array([0.043, 0.045, 0.020, 0.042, 0.031])"
   ]
  },
  {
   "cell_type": "code",
   "execution_count": null,
   "id": "0c9e91c7",
   "metadata": {},
   "outputs": [],
   "source": [
    "m=0.150\n",
    "def AmpF(w,Am,w0,l):\n",
    "    return Am/np.sqrt((w-w0)**2 + 4*(l*w)**2)"
   ]
  },
  {
   "cell_type": "code",
   "execution_count": null,
   "id": "ce844ed3",
   "metadata": {},
   "outputs": [],
   "source": [
    "from scipy.optimize import curve_fit\n",
    "guess = [0.001, 2*np.pi*0.123, 1/90.0]\n",
    "popt, pcov = curve_fit(AmpF, 2*np.pi*f, a, p0=guess)\n",
    "#The optimised parameters of the fit\n",
    "print(\"popt: Am=%g, f0=%g, Lambda=%g\" %(popt[0], popt[1]/2/np.pi, popt[2]))"
   ]
  },
  {
   "cell_type": "code",
   "execution_count": null,
   "id": "096bcb6b",
   "metadata": {},
   "outputs": [],
   "source": [
    "fs=np.arange(0.0, 0.2, 0.01)\n",
    "plt.plot(f, a, 'o', label='Seno Amplitude')\n",
    "#plt.plot(f, AmpF(2*np.pi*f, *popt), '-x',label='Am fit')\n",
    "plt.plot(fs, AmpF(2*np.pi*fs, 0.001, 2*np.pi*0.123, 1/90.0), label='Am fit')\n",
    "\n",
    "plt.legend()\n",
    "plt.xlabel('Freq/Hz')\n",
    "plt.show()"
   ]
  },
  {
   "cell_type": "code",
   "execution_count": null,
   "id": "illegal-electronics",
   "metadata": {},
   "outputs": [],
   "source": [
    "#https://skipperkongen.dk/2021/08/17/how-to-make-interactive-plots-in-jupyter/\n",
    "#https://ipywidgets.readthedocs.io/en/stable/examples/Using%20Interact.html\n",
    "#from ipywidgets import interact, interactive, fixed, interact_manual\n",
    "#import ipywidgets as widgets\n",
    "#from IPython.display import display"
   ]
  },
  {
   "cell_type": "code",
   "execution_count": null,
   "id": "broken-liquid",
   "metadata": {},
   "outputs": [],
   "source": [
    "def noisy_sine(alpha=0.0):\n",
    "    n_samples = 500\n",
    "    alpha = np.abs(alpha)\n",
    "    x = np.linspace(0,2*np.pi,n_samples)\n",
    "    y = np.sin(x) + np.random.random(n_samples) * alpha\n",
    "    plt.plot(x, y)\n",
    "    plt.show()\n",
    "    return x,y\n",
    "interactive(noisy_sine, alpha=(0.0, 1.0))"
   ]
  }
 ],
 "metadata": {
  "kernelspec": {
   "display_name": "Python 3",
   "language": "python",
   "name": "python3"
  },
  "language_info": {
   "codemirror_mode": {
    "name": "ipython",
    "version": 3
   },
   "file_extension": ".py",
   "mimetype": "text/x-python",
   "name": "python",
   "nbconvert_exporter": "python",
   "pygments_lexer": "ipython3",
   "version": "3.9.2"
  }
 },
 "nbformat": 4,
 "nbformat_minor": 5
}
