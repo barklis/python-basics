{
 "cells": [
  {
   "cell_type": "markdown",
   "id": "a4e1beba",
   "metadata": {},
   "source": [
    "## Momento Inercia Roda de Maxwell\n",
    " $ I_M= \\frac{1}{2} M (R_1^2 + R_2^2)$\n"
   ]
  },
  {
   "cell_type": "code",
   "execution_count": 44,
   "id": "682f8ca8",
   "metadata": {},
   "outputs": [
    {
     "name": "stdout",
     "output_type": "stream",
     "text": [
      "Im= 0.00138866 Kg m^2\n"
     ]
    }
   ],
   "source": [
    "M=0.436\n",
    "R1=0.049; R2=0.063\n",
    "Im=1/2*M*(R1**2 + R2**2)\n",
    "print(\"Im= %g Kg m^2\"%Im)"
   ]
  },
  {
   "cell_type": "markdown",
   "id": "95edc2c1",
   "metadata": {},
   "source": [
    "## Momento I Roda de Maxwell \n",
    " $ A= \\frac{1}{2} \\frac{mg}{ m + I_r/r^2 }$   \n",
    " $ 2 A ( m + I_r/r^2) = mg $  \n",
    " $2 A  I_r/r^2 = mg  - 2 A  m $  \n",
    " $ I_r/r^2 = \\frac{mg  - 2 A m}{2A} $    \n",
    "  $ I_r = r^2 \\frac{mg  - 2 A m}{2A} $ "
   ]
  },
  {
   "cell_type": "code",
   "execution_count": 49,
   "id": "8bf4dcbc",
   "metadata": {},
   "outputs": [
    {
     "name": "stdout",
     "output_type": "stream",
     "text": [
      "Ir= 0.00121114 Kg m^2\n"
     ]
    }
   ],
   "source": [
    "#m=0.436\n",
    "a=0.011\n",
    "r=0.0025\n",
    "g=9.8\n",
    "#a =0.0109\n",
    "Ir=r**2*(M*g/2 - a*M)/a\n",
    "#Ir=r**2*m*(g/2/a - 1)\n",
    "print(\"Ir= %g Kg m^2\" %Ir)"
   ]
  },
  {
   "cell_type": "code",
   "execution_count": 50,
   "id": "55aad430",
   "metadata": {},
   "outputs": [],
   "source": [
    "from ipywidgets import interact, interactive, fixed, interact_manual\n",
    "import ipywidgets as widgets\n",
    "import numpy as np\n",
    "import matplotlib.pyplot as plt\n",
    "%matplotlib inline"
   ]
  },
  {
   "cell_type": "code",
   "execution_count": 51,
   "id": "8d8ec0bd-13de-410f-b1ee-d286a6608549",
   "metadata": {},
   "outputs": [],
   "source": [
    "texp = np.array([6.74, 6.41, 6.35, 5.82, 5.77, 5.094,4.63, 4.01, 3.75, 3.05])\n",
    "sexp = np.array([0.56, 0.51, 0.46, 0.41, 0.37, 0.31, 0.27,0.21, 0.16, 0.11])"
   ]
  },
  {
   "cell_type": "code",
   "execution_count": 57,
   "id": "9208164a-fefc-4076-8a1b-6984bc9ca8d5",
   "metadata": {},
   "outputs": [
    {
     "data": {
      "application/vnd.jupyter.widget-view+json": {
       "model_id": "4da5dce9a5bf4d32b815cc791fc8406a",
       "version_major": 2,
       "version_minor": 0
      },
      "text/plain": [
       "interactive(children=(FloatSlider(value=0.0125, description='A', max=0.015, min=0.01, step=0.0001), FloatSlide…"
      ]
     },
     "metadata": {},
     "output_type": "display_data"
    }
   ],
   "source": [
    "x = np.linspace(0, 7)\n",
    "#A=0.1\n",
    "#B=2.1\n",
    "C=0\n",
    "def model(x,a,b, c):\n",
    "    return a * x**b +c\n",
    "def chi2(x, a, b, c, ym):\n",
    "    return np.sum((model(x, a, b, c) - ym)**2)\n",
    "\n",
    "def plot_func(A,B):\n",
    "    y = model(x, A, B, C) \n",
    "    plt.plot(x, y)\n",
    "    plt.plot(texp, sexp, '*')\n",
    "    print(\"Chi2 = %g \" %chi2(texp, A, B, C, sexp))\n",
    "\n",
    "interactive(plot_func, A=(0.01, 0.015, 0.0001), B=(1.0,2.5, 0.01),)"
   ]
  },
  {
   "cell_type": "code",
   "execution_count": 53,
   "id": "60621541-d4db-4a89-bdea-5804ccb229dd",
   "metadata": {},
   "outputs": [],
   "source": [
    "from scipy.optimize import curve_fit\n",
    "guess = [0.001, 2.0, 0.1]\n",
    "popt, pcov = curve_fit(model, texp, sexp, p0=guess)"
   ]
  },
  {
   "cell_type": "code",
   "execution_count": 54,
   "id": "5ac27d77-baeb-427e-90e9-1a9ac9f861ef",
   "metadata": {},
   "outputs": [
    {
     "name": "stdout",
     "output_type": "stream",
     "text": [
      "A: 0.00817396, B=2.17985, C=0.0242407\n",
      "Iexp= 0.00163082 Kg m^2\n"
     ]
    }
   ],
   "source": [
    "#The optimised parameters of the fit\n",
    "print(\"A: %g, B=%g, C=%g\" %(popt[0], popt[1],  popt[2]))\n",
    "Iexp=r**2*(M*g/2 - popt[0]*M)/popt[0]\n",
    "#Ir=r**2*m*(g/2/a - 1)\n",
    "print(\"Iexp= %g Kg m^2\" %Iexp)"
   ]
  },
  {
   "cell_type": "code",
   "execution_count": null,
   "id": "7960b8d2-7485-478f-bc6e-1ce47366f554",
   "metadata": {},
   "outputs": [],
   "source": []
  }
 ],
 "metadata": {
  "kernelspec": {
   "display_name": "Python 3 (ipykernel)",
   "language": "python",
   "name": "python3"
  },
  "language_info": {
   "codemirror_mode": {
    "name": "ipython",
    "version": 3
   },
   "file_extension": ".py",
   "mimetype": "text/x-python",
   "name": "python",
   "nbconvert_exporter": "python",
   "pygments_lexer": "ipython3",
   "version": "3.9.12"
  }
 },
 "nbformat": 4,
 "nbformat_minor": 5
}
