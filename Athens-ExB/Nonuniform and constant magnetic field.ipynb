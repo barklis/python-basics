{
 "cells": [
  {
   "cell_type": "markdown",
   "metadata": {
    "slideshow": {
     "slide_type": "slide"
    }
   },
   "source": [
    "# Movement under nonuniform, constant electromagnetic fields"
   ]
  },
  {
   "cell_type": "markdown",
   "metadata": {
    "slideshow": {
     "slide_type": "slide"
    }
   },
   "source": [
    "# Abstract"
   ]
  },
  {
   "cell_type": "markdown",
   "metadata": {
    "slideshow": {
     "slide_type": "fragment"
    }
   },
   "source": [
    "In this notebook we study the effect of nonuniformities of the magnetic and electric fields on the individual movement of charged particles. We show that, in first order of expansion, the ***magnetic moment*** is a constant of motion. We discuss the principles of ***magnetic mirrors*** and the movement of charged particles in Nature."
   ]
  },
  {
   "cell_type": "markdown",
   "metadata": {
    "slideshow": {
     "slide_type": "slide"
    }
   },
   "source": [
    "# Contents"
   ]
  },
  {
   "cell_type": "markdown",
   "metadata": {
    "slideshow": {
     "slide_type": "fragment"
    }
   },
   "source": [
    "1. [Background](#1)\n",
    "2. [Type of nonuniformities for the magnetic field](#2)\n",
    "    1. [$\\nabla{B} \\perp \\vec{B}$: Grad B drift](#3)\n",
    "    2. [Curvature drift](#4)\n",
    "    3. [Total drift](#5)\n",
    "    4. [Gradient along $B$](#6)\n",
    "3. [Magnetic moment](#7)\n",
    "    1. [Magnetic mirrors](#8)\n",
    "4. [Nonuniform $\\vec{E}$ field](#9)"
   ]
  },
  {
   "cell_type": "markdown",
   "metadata": {
    "slideshow": {
     "slide_type": "slide"
    }
   },
   "source": [
    "# References"
   ]
  },
  {
   "cell_type": "markdown",
   "metadata": {
    "slideshow": {
     "slide_type": "fragment"
    }
   },
   "source": [
    "The subject of this notebook is covered in the bibliography in the following chapters:\n",
    "\n",
    ">* F. Chen<cite data-cite=\"chen1974\"></cite>: *Single-particle Motions*, chapter 2, section 2.3\n",
    ">* D. Nicholson<cite data-cite=\"nicholson1983\"></cite>: *Single-particle Motion*, chapter 2, section 2.3, 2.4 and 2.6\n",
    ">* J. Bittencourt<cite data-cite=\"Bittencourt2004\"></cite>: *Charged particle motion in constant and uniform electromagnetic fields*, chapter 3\n",
    ">* R. Goldston<cite data-cite=\"Goldston1995\"></cite>: *Single-particle motion*, chapter 3\n",
    "\n",
    "The examples are prepared with the help of two scientific software packages, *Scipy*<cite data-cite=\"jones2001\"></cite> and *IPython*<cite data-cite=\"PER-GRA:2007\"></cite>, and a plotting library *Matplotlib*."
   ]
  },
  {
   "cell_type": "markdown",
   "metadata": {
    "slideshow": {
     "slide_type": "slide"
    }
   },
   "source": [
    "# 1. Background"
   ]
  },
  {
   "cell_type": "markdown",
   "metadata": {
    "slideshow": {
     "slide_type": "fragment"
    }
   },
   "source": [
    "In this notebook we will need two of the Maxwell equations in vacuum (in SI units):\n",
    "\n",
    "\\begin{align}\n",
    "\\nabla\\times\\vec{B}-\\frac{1}{c^2}\\frac{\\partial\\vec{E}}{\\partial t} &= \\mu_0\\vec{j} \\tag{Ampere's law}\\\\\n",
    "\\nabla\\cdot\\vec{B} &= 0  \\tag{Gauss's law for magnetism}\n",
    "\\end{align}\n",
    "and, off course, the force equation,\n",
    "$$ \\vec{F} = q\\left(\\vec{E}+\\vec{v}\\times\\vec{B}\\right) \\tag{Lorentz force}$$\n",
    "\n",
    "We will use the Gauss theorem,\n",
    "\n",
    "$$ \\int_V \\nabla\\cdot\\vec{A}\\;dV = \\oint_S \\vec{A}\\cdot\\vec{n}\\;dS, $$"
   ]
  },
  {
   "cell_type": "markdown",
   "metadata": {
    "slideshow": {
     "slide_type": "subslide"
    }
   },
   "source": [
    "It is also convenient to recall how the divergence of a vector is written in cylindrical coordinates:\n",
    "\n",
    "$$ \\nabla\\cdot\\vec{A} = \\frac{1}{r}\\frac{\\partial}{\\partial r}(rA_r)+\\frac{\\partial A_\\theta}{r\\partial\\theta}+\\frac{\\partial A_z}{\\partial z} $$\n",
    "\n",
    "Finally we return to the concept of magnetic moment, $\\mu$, which, for a closed loop of area $A$ and current $I$, has the value $\\mu = IA$."
   ]
  },
  {
   "cell_type": "markdown",
   "metadata": {
    "slideshow": {
     "slide_type": "slide"
    }
   },
   "source": [
    "# 2. Type of nonuniformities for the magnetic field"
   ]
  },
  {
   "cell_type": "markdown",
   "metadata": {
    "slideshow": {
     "slide_type": "fragment"
    }
   },
   "source": [
    "We start by studying four types of space changes in $\\vec{B}$:\n",
    "<table style=\"width:90%\">\n",
    "<caption>Types of nonuniform magnetic field</caption>\n",
    "  <tr>\n",
    "    <td><img src=\"images/gradB.png\" style=\"width:200px;height:162px\"/>Grad B</td>\n",
    "    <td><img src=\"images/curvB.png\" style=\"width:200px;height:162px\"/>Curvature</td>\n",
    "    <td><img src=\"images/curvgradB.png\" style=\"width:200px;height:162px\"/>Grad B and curvature</td>\n",
    "    <td><img src=\"images/divB.png\" style=\"width:200px;height:162px\"/>Divergence B</td>\n",
    "  </tr>\n",
    "  <tr>\n",
    "  <td>1) $\\partial B_z/\\partial x,\\,\\partial B_z/\\partial y$</td>\n",
    "  <td>2) $\\partial B_x/\\partial z,\\,\\partial B_y/\\partial z$</td>\n",
    "  <td>1)+2)</td>\n",
    "  <td>3) $\\partial B_x/\\partial x,\\,\\partial B_y/\\partial y,\\,\\partial B_z/\\partial z$</td>\n",
    "  </tr>\n",
    "</table>"
   ]
  },
  {
   "cell_type": "markdown",
   "metadata": {
    "slideshow": {
     "slide_type": "slide"
    }
   },
   "source": [
    "# 2.1 $\\nabla{B} \\perp \\vec{B}$: Grad B drift"
   ]
  },
  {
   "cell_type": "markdown",
   "metadata": {
    "slideshow": {
     "slide_type": "fragment"
    }
   },
   "source": [
    "The magnetic field lines are straight but their density changes in the plane $\\perp$ to $\\vec{B}$.\n",
    "\n",
    "$$ \\vec{B} = \\vec{B}_0 + \\vec{r}\\cdot\\nabla\\vec{B} + \\cdots $$\n",
    "\n",
    "To simplify, we consider that $\\vec{B}$ varies only with *y*:\n",
    "$$ \\vec{B}(y) = \\left(B_{gc,0} + (y-y_{gc})\\frac{d B}{d y}\\right)\\vec{u}_z $$\n",
    "\n",
    "*Note*: according to Maxwell equations, as $\\nabla\\times\\vec{B} \\ne \\vec{0}$, to have this field we need distributed volume currents...\n",
    "\n",
    "**Important**: $\\color{blue}{Assumption:} r_L \\ll B/|\\nabla B|$"
   ]
  },
  {
   "cell_type": "markdown",
   "metadata": {
    "slideshow": {
     "slide_type": "slide"
    }
   },
   "source": [
    "## What happens? How is the movement?"
   ]
  },
  {
   "cell_type": "markdown",
   "metadata": {
    "slideshow": {
     "slide_type": "notes"
    }
   },
   "source": [
    "$\\color{red}{Class\\,discussion...}$\n",
    "\n",
    "$\\color{red}{...}$"
   ]
  },
  {
   "cell_type": "markdown",
   "metadata": {
    "slideshow": {
     "slide_type": "fragment"
    }
   },
   "source": [
    "We start from the Lorentz equation without electric field, $\\vec{F}=q\\vec{v}\\times\\vec{B}$. \n",
    "\n",
    "If we average on the gyroperiods, the $x$ average component is zero, $\\overline{F_x}=0$. For the y component, we have $F_y= - q v_x B_z(y)$. using the results of the previous notebook for $v_x$ and $y-y_0$:\n",
    "$$ F_y = -q v_\\perp \\cos(\\omega_c t)\\left[B_{gc,0}\\pm r_L\\cos(\\omega_c t)\\frac{\\partial B}{\\partial y}\\right] $$\n",
    "Averaging in a gyroperiod we obtain\n",
    "$$ \\overline{F_y} = \\mp\\frac{1}{2}qv_\\perp r_L\\frac{\\partial B}{\\partial y} $$\n",
    "(*Note*: $\\overline{\\cos^2(\\omega_ct)} = 1/2$)."
   ]
  },
  {
   "cell_type": "markdown",
   "metadata": {
    "slideshow": {
     "slide_type": "subslide"
    }
   },
   "source": [
    "This force is responsible for a drift of the guiding center. Using the result, $ \\vec{v}_{d} = \\vec{F}\\times\\vec{B}/(q B^2)$, from the previous notebook for the value of this drift we write\n",
    "\n",
    "$$ \\vec{v}_{grad} = \\mp \\frac{1}{2}\\frac{v_\\perp r_L}{B}\\frac{\\partial B}{\\partial y}\\vec{u}_x $$\n",
    "\n",
    "Finally, generalizing for a gradient $\\nabla{B} \\perp \\vec{B}$, we reach at the result\n",
    "\n",
    "$$ v_{\\nabla B} = \\pm \\frac{1}{2}v_\\perp r_L\\frac{\\vec{B}\\times\\nabla{B}}{B^2} $$\n",
    "\n",
    "---"
   ]
  },
  {
   "cell_type": "markdown",
   "metadata": {
    "slideshow": {
     "slide_type": "slide"
    }
   },
   "source": [
    "## Practice:"
   ]
  },
  {
   "cell_type": "markdown",
   "metadata": {
    "slideshow": {
     "slide_type": "fragment"
    }
   },
   "source": [
    "Let's see how important is the assumption $r_L \\ll B/|\\nabla B|$. \n",
    "\n",
    "We can generalize and consider $B_z$ gradients both along $y$ and $x$, compute the trajectories for arbitrary values of ${\\partial B}/{\\partial x}$ and ${\\partial B}/{\\partial y}$ and see what happens..."
   ]
  },
  {
   "cell_type": "code",
   "execution_count": 4,
   "metadata": {
    "slideshow": {
     "slide_type": "skip"
    }
   },
   "outputs": [
    {
     "data": {
      "application/vnd.jupyter.widget-view+json": {
       "model_id": "b2d48917505b4c7182465e65aa211ab2",
       "version_major": 2,
       "version_minor": 0
      },
      "text/plain": [
       "interactive(children=(FloatSlider(value=0.0, description='gradx', max=2.5, min=-2.5), FloatSlider(value=0.1, d…"
      ]
     },
     "metadata": {},
     "output_type": "display_data"
    }
   ],
   "source": [
    "%matplotlib inline\n",
    "from ipywidgets import interact\n",
    "from scripts.trajectories import *\n",
    "\n",
    "def gradB(Q, t, qbym, E0, B0, keywords):\n",
    "    \"\"\"Equations of movement for a grad-B magnetic field.\n",
    "    \n",
    "    Positional arguments:\n",
    "    Q -- 6-dimension array with (x,y,z) values of position and velocity on t-dt\n",
    "    t -- next time (not used here but passed by odeint)\n",
    "    qbym -- q/m\n",
    "    E0, B0 -- arrays with electric and magnetic field values\n",
    "    Keyword arguments:\n",
    "    dBdx, dBdy -- The gradient values in x and y, respectively.\n",
    "    \n",
    "    Return value:\n",
    "    Array with dr/dt and dv/dt values.\n",
    "    \n",
    "    Note: The condition rL/(grad(B)/B) == coeficients of Q[:1] << 1 should be obeyed.\n",
    "    \"\"\"\n",
    "\n",
    "    gradx, grady = \"grad\" in keywords.keys() and keywords[\"grad\"] or [0, 0]\n",
    "    x, y = Q[:2]\n",
    "    B = B0*np.array([1,1,1 + x*gradx + y*grady])\n",
    "    \n",
    "    v = Q[3:]                                 # Velocity\n",
    "    dvdt = qbym*np.cross(v,B)                 # Acceleration\n",
    "    return np.concatenate((v,dvdt))\n",
    "\n",
    "dummy = interact(gradBdrift, gradx=(-2.5,2.5), grady=(-2.5,2.5))"
   ]
  },
  {
   "cell_type": "code",
   "execution_count": 2,
   "metadata": {
    "slideshow": {
     "slide_type": "fragment"
    }
   },
   "outputs": [],
   "source": [
    "def gradBdrift(gradx=0.0, grady=0.1):\n",
    "    \"\"\"Movement under a grad B perpendicular to B\"\"\"\n",
    "    re, rp = computeTrajectories(gradB, grad=[gradx/10,grady/10]) # NOTE the /10 !\n",
    "    plotGradB(re,rp,gradx,grady)"
   ]
  },
  {
   "cell_type": "markdown",
   "metadata": {
    "slideshow": {
     "slide_type": "subslide"
    }
   },
   "source": [
    "Let's start with just a y-gradient:"
   ]
  },
  {
   "cell_type": "code",
   "execution_count": 5,
   "metadata": {
    "slideshow": {
     "slide_type": "fragment"
    }
   },
   "outputs": [],
   "source": [
    "#gradBdrift(gradx=0.0, grady=0.1)"
   ]
  },
  {
   "cell_type": "markdown",
   "metadata": {
    "slideshow": {
     "slide_type": "fragment"
    }
   },
   "source": [
    "* Electrons and positive ions drift in oposite directions $\\Rightarrow$ **net current**!"
   ]
  },
  {
   "cell_type": "markdown",
   "metadata": {
    "slideshow": {
     "slide_type": "subslide"
    }
   },
   "source": [
    "Now,let's include also a x-gradient:"
   ]
  },
  {
   "cell_type": "code",
   "execution_count": 6,
   "metadata": {
    "slideshow": {
     "slide_type": "fragment"
    }
   },
   "outputs": [],
   "source": [
    "#gradBdrift(gradx=0.2, grady=0.1)"
   ]
  },
  {
   "cell_type": "markdown",
   "metadata": {
    "slideshow": {
     "slide_type": "subslide"
    }
   },
   "source": [
    "Now let's test the limits of our approximation!"
   ]
  },
  {
   "cell_type": "code",
   "execution_count": 7,
   "metadata": {
    "slideshow": {
     "slide_type": "fragment"
    }
   },
   "outputs": [],
   "source": [
    "#gradBdrift(gradx=0.0, grady=0.6)"
   ]
  },
  {
   "cell_type": "code",
   "execution_count": 8,
   "metadata": {
    "slideshow": {
     "slide_type": "subslide"
    }
   },
   "outputs": [],
   "source": [
    "#gradBdrift(gradx=-0.1, grady=0.6)"
   ]
  },
  {
   "cell_type": "markdown",
   "metadata": {
    "slideshow": {
     "slide_type": "slide"
    }
   },
   "source": [
    "# 2.2 Curvature drift"
   ]
  },
  {
   "cell_type": "markdown",
   "metadata": {
    "slideshow": {
     "slide_type": "fragment"
    }
   },
   "source": [
    "$\\color{blue}{Assumption:}$ B field lines locally curved (but constant) with radius of curvature $\\vec{R}_c$.\n",
    "\n",
    "Achieved also with volume currents.\n",
    "\n",
    "Centrifugal force in the radial direction:\n",
    "$$ \\vec{F}_{cf} = \\frac{mv_\\parallel^2}{R_c}\\vec{u}_r = mv_\\parallel^2\\frac{\\vec{R}_c}{R_c^2} $$\n",
    "and using the equation above for a generic force:\n",
    "$$ \\vec{v}_{curv} = \\frac{mv_\\parallel^2}{q B^2}\\frac{\\vec{R}_c\\times\\vec{B}}{R_c^2}$$\n",
    "\n",
    "In \"vacuum fields\" (without volume currents) B must fall in the perpendicular direction as $|B|\\propto 1/R_c$ and $\\nabla|B|/B= -\\vec{R}_c/R_c^2$. Thus,\n",
    "\n",
    "$$ \\vec{v}_{curv} = \\pm \\frac{v_\\parallel^2}{\\omega_c}\\frac{\\vec{B}\\times\\nabla B}{B^2} $$"
   ]
  },
  {
   "cell_type": "markdown",
   "metadata": {
    "slideshow": {
     "slide_type": "slide"
    }
   },
   "source": [
    "# 2.3 Total drift"
   ]
  },
  {
   "cell_type": "markdown",
   "metadata": {
    "slideshow": {
     "slide_type": "fragment"
    }
   },
   "source": [
    "* The curvature and grad drift add;\n",
    "* In opposite directions for charges of opposite signs;\n",
    "* Proportional to the particle energy.\n",
    "$$ \\vec{v}_d = \\left( \\frac{1}{2}mv_\\perp^2 + mv_\\parallel^2 \\right)\\frac{1}{qB^2}\\frac{\\vec{R}_c\\times\\vec{B}}{R_c^2}$$\n",
    "* For a Maxwellian isotropic distribution both terms give the same contribution."
   ]
  },
  {
   "cell_type": "markdown",
   "metadata": {
    "slideshow": {
     "slide_type": "slide"
    }
   },
   "source": [
    "# 2.4 Gradient along $B$"
   ]
  },
  {
   "cell_type": "markdown",
   "metadata": {
    "slideshow": {
     "slide_type": "fragment"
    }
   },
   "source": [
    "Let us analyse the case where the magnetic field increases along his direction, i.e. when for $\\vec{B}=B_z\\vec{u}_z$, we have $\\partial B_z / \\partial z > 0$.\n",
    "\n",
    "> Let's recall that, in cylindrical coordinates, the divergence of a vector is\n",
    "> $$ \\nabla\\cdot\\vec{A} = \\frac{1}{r}\\frac{\\partial}{\\partial r}(rA_r)+\\frac{\\partial A_\\theta}{r\\partial\\theta}+\\frac{\\partial A_z}{\\partial z} $$\n",
    "\n",
    "As Maxwell laws impose $\\nabla\\cdot\\vec{B}=0$, (assuming, to simplify, that $B_\\theta = 0$) then\n",
    "\n",
    "$$ \\frac{\\partial B_z}{\\partial z} > 0 \\Rightarrow \\frac{1}{r}\\frac{\\partial}{\\partial r}(rB_r)< 0. $$\n",
    "\n",
    "Assuming again that $r_L \\ll B/|\\nabla B|$, we can compute an *average* value for $\\overline{B_r}$. Taking a small cylindrical volume centered along a magnetic field line, the net flux out of this volume has to be zero."
   ]
  },
  {
   "cell_type": "markdown",
   "metadata": {
    "slideshow": {
     "slide_type": "subslide"
    }
   },
   "source": [
    "Using the Gauss law on the surface of this volume, we can write \n",
    "\n",
    "$$\\pi(\\delta r)^2\\delta l(d B/d z)+2\\pi\\delta r\\delta l\\overline{B_r}=0$$\n",
    "and\n",
    "\n",
    "$$ \\overline{B_r} = - \\frac{\\delta r}{2}\\frac{d B}{d z}. $$\n",
    "\n",
    "Now, if $\\delta r$ is the Larmor radius, it is this field that intervenes in the Lorentz force. Taking the time average over the gyro-period, we obtain\n",
    "\n",
    "$$ \\overline{F_\\parallel} = - \\frac{|q|v_\\perp^2}{2\\omega_c}\\frac{d B}{d z} = -\\frac{W_\\perp}{B}\\frac{d B}{d z}. \\tag{*}$$\n",
    "\n",
    "* Force in the direction opposite to the field gradient for **both** positive and negative charges."
   ]
  },
  {
   "cell_type": "markdown",
   "metadata": {
    "slideshow": {
     "slide_type": "slide"
    }
   },
   "source": [
    "## 3. Magnetic moment"
   ]
  },
  {
   "cell_type": "markdown",
   "metadata": {
    "slideshow": {
     "slide_type": "fragment"
    }
   },
   "source": [
    "In the previous notebook we have introduced the magnetic moment for the gyrating particle:\n",
    "\n",
    "$$ \\mu = \\frac{|q|v_\\perp^2}{2\\omega_c} = \\frac{m v_\\perp^2}{2 B} = \\frac{W_\\perp}{B}. $$\n",
    "\n",
    "Now, it is time to see the importance of $\\mu$. Let's look at the conservation laws for this case:\n",
    "\n",
    "* Angular momentum: As the force $\\overline{F_\\parallel}$ is constant, the angular momemtum, $\\vec{L} = m\\vec{r}_L\\times\\vec{v}$ is constant. Note that $\\vec{L} = m r_L v_\\perp\\vec{u}_\\parallel$;\n",
    "* Kinetic energy: In the presence of a static magnetic field, the total kinetic energy must be conserved.\n",
    "\n",
    "Both laws imply that the $\\mu$ is a constant of motion as we will show:"
   ]
  },
  {
   "cell_type": "markdown",
   "metadata": {
    "slideshow": {
     "slide_type": "subslide"
    }
   },
   "source": [
    "* Conservation of the angular momentum: \n",
    "$$\\vec{L} = m r_L v_\\perp\\vec{u}_\\parallel = m \\frac{v_\\perp^2}{\\omega_c}\\vec{u}_\\parallel \\equiv (2m/|q|)\\vec{\\mu}\\,$$\n",
    "as $\\,d\\vec{L}/dt = 0 \\Rightarrow \\vec{\\mu}$ is constant;"
   ]
  },
  {
   "cell_type": "markdown",
   "metadata": {
    "slideshow": {
     "slide_type": "skip"
    }
   },
   "source": [
    "* Conservation of the kinetic energy: We start by writing\n",
    "$$ m\\frac{dv_\\parallel}{dt} = -\\mu\\frac{dB}{ds},$$\n",
    "\n",
    "where we have parameterized the distance along the field line, $s$. Multiplying both sides of this equation by $v_\\parallel=ds/dt$ we obtain\n",
    "$$ \\frac{d}{dt}\\left(\\frac{m v_\\parallel^2}{2}\\right) = -\\mu\\frac{dB}{dt}.$$\n",
    "\n",
    "For the total kinetic energy, we write\n",
    "$$ \\frac{d}{dt}\\left(\\frac{mv_\\parallel^2}{2}+\\frac{mv_\\perp^2}{2}\\right) = \\frac{d}{dt}\\left(\\frac{mv_\\parallel^2}{2}+\\mu B\\right) = 0 $$\n",
    "Using the above result we have\n",
    "$$ -\\mu\\frac{dB}{dt}+\\frac{d}{dt}(\\mu B) = 0 \\Rightarrow \\frac{d\\mu}{dt} = 0. $$"
   ]
  },
  {
   "cell_type": "markdown",
   "metadata": {
    "slideshow": {
     "slide_type": "fragment"
    }
   },
   "source": [
    "* $\\mu$ is an invariant!\n",
    "* $v_\\perp$ has to increase when the particle moves to higher $B$ regions;\n",
    "* $v_\\parallel$ decreases as $v_\\perp$ increases."
   ]
  },
  {
   "cell_type": "markdown",
   "metadata": {
    "slideshow": {
     "slide_type": "slide"
    }
   },
   "source": [
    "## 3.1 Magnetic mirrors"
   ]
  },
  {
   "cell_type": "markdown",
   "metadata": {
    "slideshow": {
     "slide_type": "fragment"
    }
   },
   "source": [
    "This effect is used to confine plasmas. Let's supose that we have the a magnetic field with the following configuration of field lines:\n",
    "<img src=\"images/MagnMirror.png\" style=\"width:500px;height:456px\"/>"
   ]
  },
  {
   "cell_type": "markdown",
   "metadata": {
    "slideshow": {
     "slide_type": "subslide"
    }
   },
   "source": [
    "The parallel velocity of a particle with kinetic energy $W$ and magnetic moment $\\mu$ has to obey the equation (as $W_\\perp = \\mu B$)\n",
    "$$ \\frac{mv_\\parallel^2}{2} = W - \\mu B(z) $$\n",
    "and will have a reflection point (i.e. where $v_\\parallel = 0$) at $z_{max}:\\,B(z_{max}) = B_{max}= W/\\mu$.\n",
    "\n",
    "**Are all particles trapped?**\n",
    "\n",
    "Let as consider a particle moving around a field line with a minimum value, $B_{min}$, in the midplane, $mp$, and $B_{max}$ at the mirror throat. The limiting conditions to trap particles are (using the result above):\n",
    "\\begin{align}\n",
    "\\left.W_\\perp\\right|_{mp} &= \\mu B_{min} = W B_{min}/B_{max} \\\\\n",
    "\\left.W_\\parallel\\right|_{mp} &= W(1 - B_{min}/B_{max})\n",
    "\\end{align}\n",
    "Particles with higher value of $\\left.W_\\parallel\\right|_{mp}/W$ can escape the trap! This condition defines a 'loss cone'.\n",
    "<img src=\"images/loss_cone.png\" style=\"width:400px;height:150px\"/>"
   ]
  },
  {
   "cell_type": "markdown",
   "metadata": {
    "slideshow": {
     "slide_type": "skip"
    }
   },
   "source": [
    "* Exercise: Show that the equation for the 'loss cone' is \n",
    "$$\\frac{|v_\\parallel|}{|v_\\perp|} = \\left(\\frac{B_{max}}{B_{min}}-1\\right)^{1/2} $$\n",
    "\n",
    "and that this defines a critical angle.\n",
    "\n",
    "---"
   ]
  },
  {
   "cell_type": "markdown",
   "metadata": {
    "slideshow": {
     "slide_type": "slide"
    }
   },
   "source": [
    "## Practice:"
   ]
  },
  {
   "cell_type": "markdown",
   "metadata": {
    "slideshow": {
     "slide_type": "fragment"
    }
   },
   "source": [
    "**Note:** The following code is still under development!"
   ]
  },
  {
   "cell_type": "code",
   "execution_count": 9,
   "metadata": {
    "slideshow": {
     "slide_type": "skip"
    }
   },
   "outputs": [],
   "source": [
    "#%matplotlib qt4\n",
    "%matplotlib inline\n",
    "from scripts.trajectories import *\n",
    "\n",
    "def divB(Q, t, qbym, E0, B0, keywords):\n",
    "    \"\"\"Equations of movement for a dBz/dz gradient\"\"\"\n",
    "    global eMu, pMu, zMax\n",
    "\n",
    "    gamma = \"gm\" in keywords.keys() and keywords[\"gm\"] or 0\n",
    "    z = Q[2]; v = Q[3:]                 # Position and velocity\n",
    "    vperp = np.sqrt(v[0]**2+v[1]**2)    # Perpendicular|B velocity\n",
    "    if np.abs(z) <= zMax:\n",
    "        Bz = B0[2]*(1+gamma*z**2) #*np.abs(qbym)\n",
    "        omega_c = qbym*Bz               # Cyclotron frequency (we keep the signal for the direction of rotation)\n",
    "        rL = vperp/np.abs(omega_c)      # Larmor radius\n",
    "        Br = -rL*B0[2]*gamma*np.abs(z)\n",
    "        theta = omega_c*t\n",
    "        B = np.array([Br*np.cos(theta),-Br*np.sin(theta),Bz])\n",
    "        dvdt = qbym*np.cross(v,B)       # Acceleration\n",
    "        if np.sign(qbym) == -1:\n",
    "            #dvdt[2] = mue/qbym*2*B0[2]*gamma*z\n",
    "            dvdt[2] = - eMu*2*B0[2]*gamma*z\n",
    "        else:\n",
    "            #dvdt[2] = - mup/qbym*2*B0[2]*gamma*z\n",
    "            dvdt[2] = - pMu*2*B0[2]*gamma*z\n",
    "    else:\n",
    "        dvdt = np.zeros(3)\n",
    "    return np.concatenate((v,dvdt))\n",
    "\n",
    "def mirrorB(Bratio=1.9, escape=0.93, gamma=1e-4):\n",
    "    \"\"\"Movement with a grad B parallel to B\n",
    "    \n",
    "    Parameters\n",
    "    ----------\n",
    "    Bratio: float - Bmax/Bmin ratio\n",
    "    escape: float - factor for the ratio between v_parallel and v_perpendicular\n",
    "                    (if escape >= 1 the particle escape)\n",
    "    gamma: float  - \n",
    "    \"\"\"\n",
    "    global eMu, pMu, zMax\n",
    "    # Initial values\n",
    "    if escape == 0:\n",
    "        vperp0 = 1; vpar0 = 0\n",
    "    else:\n",
    "        vratio = np.sqrt(Bratio-1)*escape\n",
    "        vpar0 = 1; vperp0 = vpar0/vratio\n",
    "        \n",
    "    # Initial values:\n",
    "    rLe0 = vperp0/(q/me*B0[2])          # e-Larmor radius\n",
    "    rLp0 = rLe0*Mp/me                   # p-Larmor radius\n",
    "    re0 = np.array([rLe0,0,0])          # e-Position\n",
    "    rp0 = np.array([-rLp0,0,0])         # p-Position\n",
    "    v0 = np.array([0,vperp0,vpar0])     # Velocity\n",
    "    eWperp0 = me*vperp0**2/2            # Perpendicular kinetic energy\n",
    "    eW = eWperp0 + me/2*vpar0**2        # e-Kinetic energy\n",
    "    pW = eW*Mp/me                       # p-Kinetic energy\n",
    "    \n",
    "    eMu = eWperp0/B0[2]; pMu = eMu*Mp/me   # Magnetic moment\n",
    "    BMax = Bratio*B0[2]                    # Max. magnetic field\n",
    "    Bconf = eW/eMu                      # Mag. field for v|| = 0\n",
    "    zMax = np.sqrt((Bratio-1)/gamma)\n",
    "    \n",
    "    re, rp = computeTrajectories(divB, ri=[re0,rp0], vi=v0, gm=gamma)\n",
    "\n",
    "    plotMirror(re0,rp0,re,rp,zMax)\n",
    "\n",
    "    print('Magn. moment  Kinetic energy B_Max   B_conf \\\n",
    "zM_conf\\n eMu = {:.3f}    We = {:.3f}   {:.3f}   {:.3f} \\\n",
    " {:.3f}'.format(eMu,eW,BMax,Bconf,zMax))\n",
    "    print(' pMu = {:.3f}    Wp = {:.3f}'.format(pMu,pW))\n",
    "    "
   ]
  },
  {
   "cell_type": "code",
   "execution_count": 10,
   "metadata": {
    "slideshow": {
     "slide_type": "fragment"
    }
   },
   "outputs": [
    {
     "name": "stdout",
     "output_type": "stream",
     "text": [
      "Magn. moment  Kinetic energy B_Max   B_conf zM_conf\n",
      " eMu = 0.567    We = 1.067   1.900   1.882  94.868\n",
      " pMu = 5.668    Wp = 10.668\n"
     ]
    },
    {
     "data": {
      "image/png": "[encoded data removed]",
      "text/plain": [
       "<Figure size 576x432 with 1 Axes>"
      ]
     },
     "metadata": {
      "needs_background": "light"
     },
     "output_type": "display_data"
    }
   ],
   "source": [
    "mirrorB(escape=0.99)"
   ]
  },
  {
   "cell_type": "code",
   "execution_count": 10,
   "metadata": {
    "slideshow": {
     "slide_type": "subslide"
    }
   },
   "outputs": [
    {
     "name": "stdout",
     "output_type": "stream",
     "text": [
      "Magn. moment  Kinetic energy B_Max   B_conf zM_conf\n",
      " eMu = 0.545    We = 1.045   1.900   1.918  94.868\n",
      " pMu = 5.446    Wp = 10.446\n"
     ]
    },
    {
     "data": {
      "image/png": "[encoded data removed]",
      "text/plain": [
       "<Figure size 576x432 with 1 Axes>"
      ]
     },
     "metadata": {
      "needs_background": "light"
     },
     "output_type": "display_data"
    }
   ],
   "source": [
    "mirrorB(escape=1.01)"
   ]
  },
  {
   "cell_type": "markdown",
   "metadata": {
    "slideshow": {
     "slide_type": "slide"
    }
   },
   "source": [
    "## Applications"
   ]
  },
  {
   "cell_type": "markdown",
   "metadata": {
    "slideshow": {
     "slide_type": "subslide"
    }
   },
   "source": [
    "### In plasma machines"
   ]
  },
  {
   "cell_type": "markdown",
   "metadata": {
    "slideshow": {
     "slide_type": "fragment"
    }
   },
   "source": [
    "<table>\n",
    "<tr>\n",
    "<td><img src=\"images/MagMirMach1.png\" style=\"width:250px;height:228px\"/></td>\n",
    "<td><img src=\"images/MagMirMach2.png\" style=\"width:250px;height:228px\"/></td>\n",
    "</tr>\n",
    "</table>"
   ]
  },
  {
   "cell_type": "markdown",
   "metadata": {
    "slideshow": {
     "slide_type": "subslide"
    }
   },
   "source": [
    "### In Nature"
   ]
  },
  {
   "cell_type": "markdown",
   "metadata": {
    "slideshow": {
     "slide_type": "fragment"
    }
   },
   "source": [
    "<img src=\"images/MagMirNature4.png\" style=\"width:450px;height:256px\"/>\n",
    "1 - Cyclotronic motion; 2 - Mirror effect; 3 - Curvature drift.\n",
    "\n",
    "<table>\n",
    "<tr>\n",
    "<td><img src=\"images/MagMirNature1.png\" style=\"width:250px;height:228px\"/></td>\n",
    "<td><img src=\"images/MagMirNature2.png\" style=\"width:250px;height:228px\"/></td>\n",
    "</tr>\n",
    "</table>\n",
    "\n",
    "New effect discovered in September 2012! - the Van Allen belts:\n",
    "\n",
    "<img src=\"images/MagMirNature3.png\" style=\"width:500px;height:300px\"/>"
   ]
  },
  {
   "cell_type": "markdown",
   "metadata": {
    "slideshow": {
     "slide_type": "slide"
    }
   },
   "source": [
    "# 4. Nonuniform $\\vec{E}$ field"
   ]
  },
  {
   "cell_type": "markdown",
   "metadata": {
    "slideshow": {
     "slide_type": "fragment"
    }
   },
   "source": [
    "To finish this notebook we still have to look at the case of a nonuniform electric field. So simplify let us assume a sinusoidal variation in the $x$ direction:\n",
    "\n",
    "$$ \\vec{E} = E_0 \\cos(kx)\\vec{u}_x, $$\n",
    "\n",
    "and we take $k$ such that the wavelength $\\lambda=2\\pi/k$ is large comparing with $r_L$.\n",
    "\n",
    "From the Lorentz force equation we have\n",
    "\n",
    "\\begin{align}\n",
    "\\dot{v}_x &= \\frac{q B}{m}v_y + \\frac{q}{m}E_x(x)  \\\\\n",
    "\\dot{v}_y &= -\\frac{q B}{m}v_x \\\\\n",
    "\\end{align}\n",
    "\n",
    "and, we focus our attention in the equation for ${v}_y$. Differentiating these equations we obtain:\n",
    "\n",
    "\\begin{align}\n",
    "\\ddot{v}_x &= -\\omega_c^2 v_x \\pm \\omega_c\\frac{\\dot{E}_x(x)}{B} \\tag{*} \\\\\n",
    "\\ddot{v}_y &= -\\omega_c^2 v_y - \\omega_c^2 \\frac{E_x(x)}{B}. \\tag{**}\n",
    "\\end{align}"
   ]
  },
  {
   "cell_type": "markdown",
   "metadata": {
    "slideshow": {
     "slide_type": "subslide"
    }
   },
   "source": [
    "To solve this we need to know the field at $x$ but this depends on the orbit equation that we are trying to obtain... That is when our approximation is needed: If the field is weak, we use the *undisturbed orbit*, $x = x_0 + r_L\\sin \\omega_c t$.\n",
    "Substituting this in equation (**) we have\n",
    "\n",
    "$$ \\ddot{v}_y = -\\omega_c^2 v_y - \\omega_c^2 \\frac{E_0}{B}\\cos[k(x_0 + r_L\\sin \\omega_c t)] $$\n",
    "\n",
    "As before, we expect to have a drift, $v_E$, superimposed to a gyration movement. As we have done before, to find $v_E$ we average on the gyroperiods to obtain $\\overline{\\ddot{v}}_{x,y} = 0$. As this implies $\\overline{v}_x = 0$ (*Question*: why?) we only have a drift along $y$. \n",
    "\n",
    "To reach to a value for $v_E$ we need to average the $\\overline{\\cos[k(x_0 + r_L\\sin \\omega_c t)]}$ term. After expanding the cosine, we need again our assumption, $k r_L \\ll 1$ to use a Taylor expansion. After some mathematics we obtain\n",
    "\n",
    "$$ \\cos[k(x_0 + r_L\\sin \\omega_c t)] \\approx \\cos(k x_0)(1-\\frac{1}{2}k^2r_L^2\\sin^2(\\omega_c t)) -\n",
    "\\sin(k x_0)k r_L \\sin(\\omega_c t) $$\n",
    "\n",
    "Averaging over time, gives\n",
    "\n",
    "$$ \\overline{v}_y = - \\frac{E_x(x_0)}{B}\\left(1-\\frac{1}{4}k^2r_L^2\\right), $$\n",
    "\n",
    "where we have put $E_0\\cos(kx_0)=E_x(x_0)$.\n",
    "\n",
    "Generalizing for variations in arbitrary directions, we obtain the drift with the correction in vector form,\n",
    "\n",
    "$$ \\vec{v}_E = \\frac{\\vec{E}\\times\\vec{B}}{B^2}\\left(1-\\frac{1}{4}k^2r_L^2\\right). $$\n",
    "\n",
    "This result introduces a correction from the inhomogeneity on our previous result for the $\\vec{E}\\times\\vec{B}$ drift. "
   ]
  },
  {
   "cell_type": "markdown",
   "metadata": {
    "slideshow": {
     "slide_type": "fragment"
    }
   },
   "source": [
    "**Electrons and ions have different Larmor radius** $\\Rightarrow$ charge separation $\\Rightarrow$ possibility of plasma instabilities (*drift instability*)."
   ]
  }
 ],
 "metadata": {
  "celltoolbar": "Slideshow",
  "kernelspec": {
   "display_name": "Python 3",
   "language": "python",
   "name": "python3"
  },
  "language_info": {
   "codemirror_mode": {
    "name": "ipython",
    "version": 3
   },
   "file_extension": ".py",
   "mimetype": "text/x-python",
   "name": "python",
   "nbconvert_exporter": "python",
   "pygments_lexer": "ipython3",
   "version": "3.8.8"
  }
 },
 "nbformat": 4,
 "nbformat_minor": 1
}
