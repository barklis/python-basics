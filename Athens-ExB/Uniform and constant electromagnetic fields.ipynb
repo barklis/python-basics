{
 "cells": [
  {
   "cell_type": "markdown",
   "metadata": {
    "slideshow": {
     "slide_type": "slide"
    }
   },
   "source": [
    "# Movement under uniform and constant electromagnetic fields"
   ]
  },
  {
   "cell_type": "markdown",
   "metadata": {
    "slideshow": {
     "slide_type": "subslide"
    }
   },
   "source": [
    "# Abstract"
   ]
  },
  {
   "cell_type": "markdown",
   "metadata": {
    "slideshow": {
     "slide_type": "fragment"
    }
   },
   "source": [
    "In this notebook we study the individual movement of charged particles under the influence of constant and uniform magnetic and electric fields. We introduce the ***cyclotron frequency***, ***Larmor radius***, ***magnetic moment*** and the ***drift velocity*** originated by crossed electric and magnetic field."
   ]
  },
  {
   "cell_type": "markdown",
   "metadata": {
    "slideshow": {
     "slide_type": "slide"
    }
   },
   "source": [
    "# Contents"
   ]
  },
  {
   "cell_type": "markdown",
   "metadata": {
    "slideshow": {
     "slide_type": "fragment"
    }
   },
   "source": [
    "1. [Force on a single particle](#1)\n",
    "2. [Movement without $\\vec{E}$ field](#2)\n",
    "3. [Magnetic Moment](#2)\n",
    "4. [$\\vec{E} \\neq \\vec{0}$ but constant](#3)\n",
    "5. [General force, $\\vec{F}$](#4)"
   ]
  },
  {
   "cell_type": "markdown",
   "metadata": {
    "slideshow": {
     "slide_type": "slide"
    }
   },
   "source": [
    "# References"
   ]
  },
  {
   "cell_type": "markdown",
   "metadata": {
    "slideshow": {
     "slide_type": "fragment"
    }
   },
   "source": [
    "The subject of this notebook is covered in the bibliography in the following chapters:\n",
    "\n",
    ">* F. Chen<cite data-cite=\"chen1974\"></cite>: *Single-particle Motions*, chapter 2, section 2.2\n",
    ">* D. Nicholson<cite data-cite=\"nicholson1983\"></cite>: *Single-particle Motion*, chapter 2, section 2.2\n",
    ">* J. Bittencourt<cite data-cite=\"Bittencourt2004\"></cite>: *Charged particle motion in constant and uniform electromagnetic fields*, chapter 2\n",
    ">* R. Goldston<cite data-cite=\"Goldston1995\"></cite>: *Single-particle motion*, chapter 2\n",
    "\n",
    "The examples are prepared with the help of the scientific software packages, *Scipy*<cite data-cite=\"jones2001\"></cite> and *IPython*<cite data-cite=\"PER-GRA:2007\"></cite>, *Matplotlib* and the *Jupyter* notebook."
   ]
  },
  {
   "cell_type": "markdown",
   "metadata": {
    "slideshow": {
     "slide_type": "slide"
    }
   },
   "source": [
    "# 1. Force on a single particle"
   ]
  },
  {
   "cell_type": "markdown",
   "metadata": {
    "slideshow": {
     "slide_type": "fragment"
    }
   },
   "source": [
    "A particle with charge $q$ and mass $m$, moving with velocity $\\vec{v}$, under electric, $\\vec{E}$, and magnetic fields, $\\vec{B}$, experiences a force given by the Lorentz force equation,\n",
    "$$ \\vec{F} = q\\left(\\vec{E}+\\vec{v}\\times\\vec{B}\\right) \\tag{Lorentz force}$$"
   ]
  },
  {
   "cell_type": "markdown",
   "metadata": {
    "slideshow": {
     "slide_type": "slide"
    }
   },
   "source": [
    "# 2. Movement without $\\vec{E}$ field"
   ]
  },
  {
   "cell_type": "markdown",
   "metadata": {
    "slideshow": {
     "slide_type": "fragment"
    }
   },
   "source": [
    "Let's keep it simple: $\\vec{B}(\\vec{r},t) = B_0\\vec{u}_\\parallel;\\quad \\vec{v}_0 = v_{\\perp,0}\\vec{u}_\\perp+v_{z,0}\\vec{u}_\\parallel$ and we take $\\vec{u}_\\parallel \\equiv \\vec{u}_z$.\n",
    "\n",
    "* The Lorentz force is \n",
    "$$ \\vec{F} = q\\vec{v}\\times\\vec{B}$$\n",
    "and, as $\\vec{F} \\perp \\vec{v} \\Rightarrow$ constant kinetic energy, $W$:\n",
    "$$ m\\vec{v}\\cdot\\frac{d\\vec{v}}{dt}=\\frac{d}{dt}\\left(\\frac{1}{2}mv^2\\right)=0$$"
   ]
  },
  {
   "cell_type": "markdown",
   "metadata": {
    "slideshow": {
     "slide_type": "slide"
    }
   },
   "source": [
    "## How is the movement?"
   ]
  },
  {
   "cell_type": "markdown",
   "metadata": {
    "slideshow": {
     "slide_type": "notes"
    }
   },
   "source": [
    "$\\color{red}{Class\\,discussion...}$\n",
    "\n",
    "$\\color{red}{...}$"
   ]
  },
  {
   "cell_type": "markdown",
   "metadata": {
    "slideshow": {
     "slide_type": "fragment"
    }
   },
   "source": [
    "1. In cartesian coordinates, the components of the Lorentz force equation are,\n",
    "\n",
    "\\begin{align}\n",
    "\\dot{v}_x &= \\frac{q}{m}v_y B_0 \\\\\n",
    "\\dot{v}_y &= -\\frac{q}{m}v_x B_0 \\\\\n",
    "\\dot{v}_z &= 0\n",
    "\\end{align}\n",
    "\n",
    "2. Taking the first two equations for _x_ or _y_, differentiating and replacing terms we obtain the homogeneous equations:\n",
    "\n",
    "\\begin{align}\n",
    "\\ddot{v}_{x} + \\left(\\frac{q}{m}B_0\\right)^2 v_{x} &= 0 \\\\\n",
    "\\ddot{v}_{y} + \\left(\\frac{q}{m}B_0\\right)^2 v_{y} &= 0\n",
    "\\end{align}\n",
    "\n",
    "This is the equation for a *harmonic oscilator* with a frequency $\\omega = q B_0/m$: In the _xy_ plane, the particle describes a circle."
   ]
  },
  {
   "cell_type": "markdown",
   "metadata": {
    "slideshow": {
     "slide_type": "subslide"
    }
   },
   "source": [
    "Integrating we obtain\n",
    "\\begin{align}\n",
    "v_x &= v_\\perp \\exp(i{\\color{green}{\\omega_c}}t+i\\delta) \\\\\n",
    "v_y &= \\pm i v_\\perp \\exp(i{\\color{green}{\\omega_c}}t+i\\delta) \\\\\n",
    "v_z &= v_{z,0}\n",
    "\\end{align}\n",
    "with $v_\\perp=(v_{x,0}^2+v_{y,0}^2)^{1/2}$, $\\delta=\\mp\\tan^{-1}(v_{y,0}/v_{x,0})$, the signal in $\\pm$ depends on the charge $q$ and $\\boxed{\\color{green}{\\omega_c \\equiv \\frac{|q|B}{m}}}$ is the **cyclotron frequency**.\n",
    "\n",
    "   * Uniform circular motion in $\\perp$;\n",
    "   * $v_\\parallel$ is constant $\\Rightarrow$ uniform motion in $\\parallel$."
   ]
  },
  {
   "cell_type": "markdown",
   "metadata": {
    "slideshow": {
     "slide_type": "subslide"
    }
   },
   "source": [
    "Integrating again we obtain\n",
    "\\begin{align}\n",
    "x &= x_0 - i{\\color{red}{(v_\\perp/\\omega_c)}} \\left[\\exp(i{\\color{green}{\\omega_c}} t+i\\delta) - \\exp(i\\delta)\\right] \\\\\n",
    "y &= y_0 \\pm {\\color{red}{(v_\\perp/\\omega_c)}} \\left[ \\exp(i{\\color{green}{\\omega_c}} t+i\\delta) - \\exp(i\\delta) \\right] \\\\\n",
    "z &= z_0 + v_{z,0}t\n",
    "\\end{align}\n",
    "The quantity $\\boxed{\\color{red}{r_L \\equiv \\frac{v_\\perp}{\\omega_c}}}$ is the **Larmor radius** or **gyro-radius**."
   ]
  },
  {
   "cell_type": "markdown",
   "metadata": {
    "slideshow": {
     "slide_type": "subslide"
    }
   },
   "source": [
    "## Practice:"
   ]
  },
  {
   "cell_type": "markdown",
   "metadata": {
    "slideshow": {
     "slide_type": "fragment"
    }
   },
   "source": [
    "Let's represent the movement of two imaginary particles, with $(q,m)$ values respectively $(1,10)$ and $(-1,0.1)$ [ *Note that $m_p/m_e \\approx 1\\,836$* ], for $B_z = 2$.  \n",
    "We start by converting the force equation in a system of first order differential equations,\n",
    "\n",
    "\\begin{align}\n",
    "\\dot{\\vec{r}}(t) &= \\vec{v}(t) \\\\\n",
    "\\dot{\\vec{v}}(t) &= \\frac{q}{m}\\vec{v}(t)\\times\\vec{B}\n",
    "\\end{align}\n",
    "\n",
    "and start by computing the cyclotron frequencies and Larmor radius."
   ]
  },
  {
   "cell_type": "code",
   "execution_count": 4,
   "metadata": {
    "jupyter": {
     "outputs_hidden": false
    },
    "slideshow": {
     "slide_type": "skip"
    }
   },
   "outputs": [],
   "source": [
    "%matplotlib notebook\n",
    "from scripts.animateFigure import *\n",
    "from scipy.integrate import odeint      # Solution of diff.equations\n",
    "from IPython.display import HTML\n",
    "\n",
    "\"\"\"Movement of negative and positive charges under a constant magnetic field\"\"\"\n",
    "\n",
    "def EqMovement(Q,t,QbyM):\n",
    "    \"\"\"Equations of movement.\n",
    "    \n",
    "    Parameters\n",
    "    ----------    \n",
    "    Q : list     - The (x,y,z) components of position and velocity;\n",
    "    t : float    - Time value for time dependent functions. Not used\n",
    "                  in this case but required by odeint;\n",
    "    QbyM : float - The ratio between charge and mass (q/m).\n",
    "    \"\"\"   \n",
    "    global B0\n",
    "    \n",
    "    v = Q[3:]\n",
    "    drdt = v                                # Velocity\n",
    "    dvdt = QbyM*np.cross(v,B0)              # Acceleration\n",
    "    \n",
    "    return np.concatenate((drdt,dvdt))\n",
    "  \n",
    "def trajectories(Q0, QbyM, tf):\n",
    "    \"\"\"Computes the trajectories.\n",
    "    \n",
    "    Parameters\n",
    "    ----------    \n",
    "    Q0 : list   - The (x,y,z) components of the initial position and velocity;\n",
    "    QbyM : list - The ratio between charge and mass (q/m) for the two charges;\n",
    "    tf : int    - The final time.\n",
    "    \"\"\"    \n",
    "    t = np.linspace(0,tf,4*tf, dtype=int)\n",
    "    Qe = odeint(EqMovement, Q0, t, args=(QbyM[0],))\n",
    "    Qp = odeint(EqMovement, Q0, t, args=(QbyM[1],))\n",
    "    \n",
    "    return Qe, Qp\n",
    "\n",
    "def animateFigure(Qe,Qp,tf):\n",
    "    \n",
    "    ani = animation.FuncAnimation(fig, animate, np.linspace(0,tf,4*tf,dtype=int), fargs=(Qe,Qp),\n",
    "                                  blit=False, interval=2,\n",
    "                                  repeat = False, init_func=initFigure)\n",
    "    #ani.save('uniformB.mp4', fps=20)\n",
    "    return ani"
   ]
  },
  {
   "cell_type": "code",
   "execution_count": 5,
   "metadata": {
    "jupyter": {
     "outputs_hidden": false
    },
    "slideshow": {
     "slide_type": "subslide"
    }
   },
   "outputs": [
    {
     "data": {
      "text/html": [
       "<p>Cyclotron frequencies: ωe = 20.00, ωp = 0.20</p>Larmor radius:         rLe = 0.1, rLp = 10.0"
      ],
      "text/plain": [
       "<IPython.core.display.HTML object>"
      ]
     },
     "execution_count": 5,
     "metadata": {},
     "output_type": "execute_result"
    }
   ],
   "source": [
    "global B0\n",
    "\n",
    "# Constants\n",
    "q = 1; me = 0.1; Mp = 10; Bz = 2\n",
    "# Initial conditions\n",
    "v0z = 1\n",
    "r0 = np.zeros(3); v0 = np.array([0,2,v0z])  # Initial position and velocity\n",
    "B0 = np.array([0,0,Bz])                     # Magnetic fields\n",
    "tf = 120                                    # Final time\n",
    "\n",
    "# Frequency and radius\n",
    "we = q*B0[2]/me; wp = q*B0[2]/Mp            # Cyclotron frequencies    \n",
    "modv = np.sqrt(v0[0]**2+v0[1]**2)           # Perpendicular|B velocity\n",
    "rLe = me*modv/(q*Bz); rLp = Mp/me*rLe       # Larmor radius\n",
    "\n",
    "a = f'<p>Cyclotron frequencies: ωe = {we:4.2f}, ωp = {wp:4.2f}</p>'\n",
    "b = f'Larmor radius:         rLe = {rLe}, rLp = {rLp}'\n",
    "HTML(a+b)"
   ]
  },
  {
   "cell_type": "markdown",
   "metadata": {
    "slideshow": {
     "slide_type": "subslide"
    }
   },
   "source": [
    "and then we solve this system with a numerical algorithm and visualize the movement:"
   ]
  },
  {
   "cell_type": "code",
   "execution_count": 6,
   "metadata": {
    "jupyter": {
     "outputs_hidden": false
    },
    "scrolled": false,
    "slideshow": {
     "slide_type": "fragment"
    }
   },
   "outputs": [
    {
     "ename": "RuntimeError",
     "evalue": "Requested MovieWriter (ffmpeg) not available",
     "output_type": "error",
     "traceback": [
      "\u001b[1;31m---------------------------------------------------------------------------\u001b[0m",
      "\u001b[1;31mRuntimeError\u001b[0m                              Traceback (most recent call last)",
      "\u001b[1;32m<ipython-input-6-4b35194544e4>\u001b[0m in \u001b[0;36m<module>\u001b[1;34m\u001b[0m\n\u001b[0;32m      4\u001b[0m \u001b[1;31m# Plots the trajectories\u001b[0m\u001b[1;33m\u001b[0m\u001b[1;33m\u001b[0m\u001b[1;33m\u001b[0m\u001b[0m\n\u001b[0;32m      5\u001b[0m \u001b[0mani\u001b[0m \u001b[1;33m=\u001b[0m \u001b[0manimateFigure\u001b[0m\u001b[1;33m(\u001b[0m\u001b[0mQe\u001b[0m\u001b[1;33m,\u001b[0m\u001b[0mQp\u001b[0m\u001b[1;33m,\u001b[0m\u001b[0mtf\u001b[0m\u001b[1;33m)\u001b[0m\u001b[1;33m\u001b[0m\u001b[1;33m\u001b[0m\u001b[0m\n\u001b[1;32m----> 6\u001b[1;33m \u001b[0mHTML\u001b[0m\u001b[1;33m(\u001b[0m\u001b[0mani\u001b[0m\u001b[1;33m.\u001b[0m\u001b[0mto_html5_video\u001b[0m\u001b[1;33m(\u001b[0m\u001b[1;33m)\u001b[0m\u001b[1;33m)\u001b[0m  \u001b[1;31m#HTML(ani.to_jshtml())\u001b[0m\u001b[1;33m\u001b[0m\u001b[1;33m\u001b[0m\u001b[0m\n\u001b[0m",
      "\u001b[1;32mC:\\ProgramData\\Anaconda3\\lib\\site-packages\\matplotlib\\animation.py\u001b[0m in \u001b[0;36mto_html5_video\u001b[1;34m(self, embed_limit)\u001b[0m\n\u001b[0;32m   1330\u001b[0m                 \u001b[1;31m# We create a writer manually so that we can get the\u001b[0m\u001b[1;33m\u001b[0m\u001b[1;33m\u001b[0m\u001b[1;33m\u001b[0m\u001b[0m\n\u001b[0;32m   1331\u001b[0m                 \u001b[1;31m# appropriate size for the tag\u001b[0m\u001b[1;33m\u001b[0m\u001b[1;33m\u001b[0m\u001b[1;33m\u001b[0m\u001b[0m\n\u001b[1;32m-> 1332\u001b[1;33m                 \u001b[0mWriter\u001b[0m \u001b[1;33m=\u001b[0m \u001b[0mwriters\u001b[0m\u001b[1;33m[\u001b[0m\u001b[0mmpl\u001b[0m\u001b[1;33m.\u001b[0m\u001b[0mrcParams\u001b[0m\u001b[1;33m[\u001b[0m\u001b[1;34m'animation.writer'\u001b[0m\u001b[1;33m]\u001b[0m\u001b[1;33m]\u001b[0m\u001b[1;33m\u001b[0m\u001b[1;33m\u001b[0m\u001b[0m\n\u001b[0m\u001b[0;32m   1333\u001b[0m                 writer = Writer(codec='h264',\n\u001b[0;32m   1334\u001b[0m                                 \u001b[0mbitrate\u001b[0m\u001b[1;33m=\u001b[0m\u001b[0mmpl\u001b[0m\u001b[1;33m.\u001b[0m\u001b[0mrcParams\u001b[0m\u001b[1;33m[\u001b[0m\u001b[1;34m'animation.bitrate'\u001b[0m\u001b[1;33m]\u001b[0m\u001b[1;33m,\u001b[0m\u001b[1;33m\u001b[0m\u001b[1;33m\u001b[0m\u001b[0m\n",
      "\u001b[1;32mC:\\ProgramData\\Anaconda3\\lib\\site-packages\\matplotlib\\animation.py\u001b[0m in \u001b[0;36m__getitem__\u001b[1;34m(self, name)\u001b[0m\n\u001b[0;32m    164\u001b[0m         \u001b[1;32mif\u001b[0m \u001b[0mself\u001b[0m\u001b[1;33m.\u001b[0m\u001b[0mis_available\u001b[0m\u001b[1;33m(\u001b[0m\u001b[0mname\u001b[0m\u001b[1;33m)\u001b[0m\u001b[1;33m:\u001b[0m\u001b[1;33m\u001b[0m\u001b[1;33m\u001b[0m\u001b[0m\n\u001b[0;32m    165\u001b[0m             \u001b[1;32mreturn\u001b[0m \u001b[0mself\u001b[0m\u001b[1;33m.\u001b[0m\u001b[0m_registered\u001b[0m\u001b[1;33m[\u001b[0m\u001b[0mname\u001b[0m\u001b[1;33m]\u001b[0m\u001b[1;33m\u001b[0m\u001b[1;33m\u001b[0m\u001b[0m\n\u001b[1;32m--> 166\u001b[1;33m         \u001b[1;32mraise\u001b[0m \u001b[0mRuntimeError\u001b[0m\u001b[1;33m(\u001b[0m\u001b[1;34mf\"Requested MovieWriter ({name}) not available\"\u001b[0m\u001b[1;33m)\u001b[0m\u001b[1;33m\u001b[0m\u001b[1;33m\u001b[0m\u001b[0m\n\u001b[0m\u001b[0;32m    167\u001b[0m \u001b[1;33m\u001b[0m\u001b[0m\n\u001b[0;32m    168\u001b[0m \u001b[1;33m\u001b[0m\u001b[0m\n",
      "\u001b[1;31mRuntimeError\u001b[0m: Requested MovieWriter (ffmpeg) not available"
     ]
    }
   ],
   "source": [
    "# Computes the trajectories\n",
    "Qe,Qp = trajectories(np.concatenate((r0,v0)), [-q/me,q/Mp], tf)\n",
    "\n",
    "# Plots the trajectories\n",
    "ani = animateFigure(Qe,Qp,tf)\n",
    "HTML(ani.to_html5_video())  #HTML(ani.to_jshtml()) "
   ]
  },
  {
   "cell_type": "markdown",
   "metadata": {
    "slideshow": {
     "slide_type": "slide"
    }
   },
   "source": [
    "## 3. Magnetic Moment"
   ]
  },
  {
   "cell_type": "markdown",
   "metadata": {
    "slideshow": {
     "slide_type": "fragment"
    }
   },
   "source": [
    "Let's recall the definition of magnetic moment of a current flowing in a closed circuit:\n",
    "$$ \\mu = I A,$$\n",
    "where $I$ is the current and $A$ the area of the loop. In our case we have,\n",
    "$$ I = |q|\\frac{\\omega_c}{2\\pi},\\quad A = \\pi r_L^2 $$\n",
    "and, as $r_L=v_\\perp/\\omega_c$ and $\\omega_c = |q|B/m$, substituting values, \n",
    "$$ \\boxed{\\color{blue}{\\mu = \\frac{|q|v_\\perp^2}{2\\omega_c} = \\frac{m v_\\perp^2}{2 B} = \\frac{W_\\perp}{B}}} $$\n"
   ]
  },
  {
   "cell_type": "markdown",
   "metadata": {
    "slideshow": {
     "slide_type": "slide"
    }
   },
   "source": [
    "# 4. $\\vec{E} \\neq \\vec{0}$ but constant"
   ]
  },
  {
   "cell_type": "markdown",
   "metadata": {
    "slideshow": {
     "slide_type": "fragment"
    }
   },
   "source": [
    "In this case we need to solve the full Lorentz equation:\n",
    "$$ \\vec{a} = \\frac{q}{m}\\left(\\vec{E}+\\vec{v}\\times\\vec{B}\\right) $$"
   ]
  },
  {
   "cell_type": "markdown",
   "metadata": {
    "slideshow": {
     "slide_type": "subslide"
    }
   },
   "source": [
    "## How is the movement?"
   ]
  },
  {
   "cell_type": "markdown",
   "metadata": {
    "slideshow": {
     "slide_type": "skip"
    }
   },
   "source": [
    "$\\color{red}{Class\\,discussion...}$\n",
    "\n",
    "$\\color{red}{...}$"
   ]
  },
  {
   "cell_type": "markdown",
   "metadata": {
    "slideshow": {
     "slide_type": "fragment"
    }
   },
   "source": [
    "Let's take $\\vec{E} = E_{\\perp,0}\\vec{u}_\\perp+E_{\\parallel,0}\\vec{u}_z$ and $\\vec{B}$ along z. We obtain\n",
    "\\begin{align}\n",
    "\\dot{v}_x &= \\frac{q}{m}(E_x + v_y B) \\\\\n",
    "\\dot{v}_y &= \\frac{q}{m}(E_y - v_x B) \\\\\n",
    "\\dot{v}_z &= \\frac{q}{m}E_\\parallel\n",
    "\\end{align}\n",
    "In the direction parallel to $\\vec{B}$, we just have the free-fall in the electric field:\n",
    "$$v_z = \\frac{q}{m}E_\\parallel t+v_{\\parallel,0}.$$\n",
    "In order to find a solution in the plane $\\perp$ to $\\vec{B}$, as in the previous case, we diferentiate the two equations and substitute the first derivatives to obtain the two equations\n",
    "\\begin{align}\n",
    "\\ddot{v}_x &= -\\omega_c^2(v_x - \\frac{E_y}{B}) \\\\\n",
    "\\ddot{v}_y &= -\\omega_c^2(v_y + \\frac{E_x}{B}) \\\\\n",
    "\\end{align}"
   ]
  },
  {
   "cell_type": "markdown",
   "metadata": {
    "slideshow": {
     "slide_type": "subslide"
    }
   },
   "source": [
    "Making the substitution $u_x = v_x-E_y/B,\\; u_y = v_y+E_x/B$, we obtain for $u_x,\\;u_y$ the equations\n",
    "\n",
    "$$ \\ddot{u}_{x,y} = -\\omega_c^2 u_{x,y}, $$\n",
    "\n",
    "which are the same equations as in the previous case! I.e., in the _xy_ plan the movement can be decomposed on a Larmor movement and a drift component $\\Rightarrow \\vec{v}_\\perp$ has a Larmor movement with a drift: $v_\\perp = v_\\bigcirc + v_d$.\n",
    "\n",
    ">**Note:** If we want to procede in a more formal way, we take again the derivative of any of the first two equations and obtain the *inhomogeneous equation for a harmonic oscilator*,\n",
    ">$$ \\ddot{v}_{x,y} + \\omega_c^2 v_{x,y} = \\pm\\omega_c^2 \\frac{E_{y,x}}{B}, $$\n",
    ">whose solution is the solution for the *homogeneous* case plus a particular solution."
   ]
  },
  {
   "cell_type": "markdown",
   "metadata": {
    "slideshow": {
     "slide_type": "subslide"
    }
   },
   "source": [
    "### How to compute $v_d$?\n",
    "\n",
    "If we average the Lorentz force over many gyroperiods, the average acceleration is *zero* and the only velocity component left is $v_d$:\n",
    "\n",
    "$$ 0 = \\frac{q}{m}(\\vec{E}+\\vec{v}_d\\times\\vec{B}). $$\n",
    "\n",
    "Taking the cross product with $\\vec{B}$ and using the vector formula in the appendix, we finally obtain\n",
    "\n",
    "$$ \\vec{v}_{d} = \\frac{\\vec{E}\\times\\vec{B}}{B^2}$$"
   ]
  },
  {
   "cell_type": "markdown",
   "metadata": {
    "slideshow": {
     "slide_type": "subslide"
    }
   },
   "source": [
    "## Important points:"
   ]
  },
  {
   "cell_type": "markdown",
   "metadata": {
    "slideshow": {
     "slide_type": "fragment"
    }
   },
   "source": [
    "* The velocity of any particle can be decomposed in three components:\n",
    "$$ \\vec{v} = \\vec{v}_\\parallel+\\vec{v}_{d}+\\vec{v}_{L} $$\n",
    "* The drift is $\\perp$ both to $\\vec{E}$ and $\\vec{B}$;\n",
    "* The drift is **independent** of m, q and $v_\\perp$.\n",
    "* On the **same direction** for electrons and ions $\\Rightarrow$ no net current !\n",
    "\n",
    "    * Exercise: What is the $\\vec{E}_\\perp$ field in an inertial frame moving with $\\vec{v}_d$? (*Hint*: use the Lorentz transformation for an electromagnetic field.)\n",
    "    \n",
    "---"
   ]
  },
  {
   "cell_type": "markdown",
   "metadata": {
    "slideshow": {
     "slide_type": "subslide"
    }
   },
   "source": [
    "## Practice:"
   ]
  },
  {
   "cell_type": "markdown",
   "metadata": {
    "slideshow": {
     "slide_type": "fragment"
    }
   },
   "source": [
    "We can easily extend the previous example to include the electric field. It is also interesting to see what happens with the kinetic energy and the Larmor radius."
   ]
  },
  {
   "cell_type": "code",
   "execution_count": 15,
   "metadata": {
    "jupyter": {
     "outputs_hidden": false
    },
    "slideshow": {
     "slide_type": "skip"
    }
   },
   "outputs": [
    {
     "data": {
      "application/vnd.jupyter.widget-view+json": {
       "model_id": "0ceb64fa454c4665b24f7fa18248bc76",
       "version_major": 2,
       "version_minor": 0
      },
      "text/plain": [
       "interactive(children=(IntSlider(value=0, description='Exy', max=1), FloatSlider(value=0.0, description='Ez', m…"
      ]
     },
     "metadata": {},
     "output_type": "display_data"
    }
   ],
   "source": [
    "%matplotlib inline\n",
    "from ipywidgets import interact\n",
    "from scripts import plotEB\n",
    "\n",
    "modv = lambda v: np.sqrt((v[:,0])**2+(v[:,1])**2)    # v-perpendicular\n",
    "\n",
    "def EqMovement(Q,t,QbyM):\n",
    "    \"\"\"Equations of movement\"\"\"\n",
    "    global E0,B0\n",
    "    v = Q[3:]\n",
    "    drdt = v                                    # Velocity\n",
    "    dvdt = QbyM*(E0+np.cross(v,B0))             # Acceleration\n",
    "    \n",
    "    return np.concatenate((drdt,dvdt))\n",
    "\n",
    "def crossEB(Exy=0, Ez=0, angle=320):\n",
    "    \"\"\"Movement of an electron and ion under constant \n",
    "    magnetic and electric fields\"\"\"\n",
    "    global E0,B0\n",
    "    \n",
    "    me = 1; Mp = 10*me; q = 1; Bz = 1 \n",
    "    QbyM = np.array([-q/me,q/Mp])               # Charge by mass ratio\n",
    "\n",
    "    r0 = np.zeros(3); v0 = np.array([0,1,0])\n",
    "    Q0 = np.concatenate((r0,v0))                # Initial values\n",
    "    E0 = np.array([Exy,Exy,Ez]); B0 = np.array([0,0,Bz])\n",
    "\n",
    "    tf = 350; NPts = 4*tf; t = np.linspace(0,tf,NPts)\n",
    "    # Computes the trajectories\n",
    "    Qe,Qp = trajectories(Q0, QbyM, tf)          # Integrate the equations of movement\n",
    "    \n",
    "    # Drift velocity\n",
    "    vd = np.cross(E0,B0)/np.dot(B0,B0)            # vd = (EXB)/(B|B)\n",
    "    rd = np.array([t,vd[0]*t,vd[1]*t]).T\n",
    "    \n",
    "    # Larmor radius\n",
    "    rLe = me/q*modv(Qe[:,3:5])/Bz; rLp = Mp/q*modv(Qp[:,3:5])/Bz\n",
    "    \n",
    "    # Kinetic energy\n",
    "    We = me/2*(Qe[:,3]**2+Qe[:,4]**2+Qe[:,5]**2)\n",
    "    Wp = Mp/2*(Qp[:,3]**2+Qp[:,4]**2+Qp[:,5]**2)\n",
    "    \n",
    "    # Plot the trajectories and Larmor radius\n",
    "    plotEB.plot3d(Qe, Qp, rd, t, rLe, rLp, We, Wp, angle)\n",
    "\n",
    "dummy = interact(crossEB, Exy=(0,1), Ez=(0,0.2), angle=(180,360))"
   ]
  },
  {
   "cell_type": "markdown",
   "metadata": {
    "slideshow": {
     "slide_type": "subslide"
    }
   },
   "source": [
    "First we repeat our case, with $\\vec{E}=0$:"
   ]
  },
  {
   "cell_type": "code",
   "execution_count": 11,
   "metadata": {
    "slideshow": {
     "slide_type": "fragment"
    }
   },
   "outputs": [],
   "source": [
    "#crossEB(0,0,225)"
   ]
  },
  {
   "cell_type": "markdown",
   "metadata": {
    "slideshow": {
     "slide_type": "subslide"
    }
   },
   "source": [
    "Then we introduce an electric field on the xy plan, $\\vec{E}=1\\vec{u}_x+1\\vec{u}_y$:"
   ]
  },
  {
   "cell_type": "code",
   "execution_count": 12,
   "metadata": {
    "slideshow": {
     "slide_type": "fragment"
    }
   },
   "outputs": [],
   "source": [
    "#crossEB(1,0,225)"
   ]
  },
  {
   "cell_type": "markdown",
   "metadata": {
    "slideshow": {
     "slide_type": "subslide"
    }
   },
   "source": [
    "And finally we add a z component to the electric field:"
   ]
  },
  {
   "cell_type": "code",
   "execution_count": 13,
   "metadata": {
    "slideshow": {
     "slide_type": "fragment"
    }
   },
   "outputs": [],
   "source": [
    "#crossEB(1,0.1,225)"
   ]
  },
  {
   "cell_type": "markdown",
   "metadata": {
    "slideshow": {
     "slide_type": "slide"
    }
   },
   "source": [
    "# 5. General force, $\\vec{F}$"
   ]
  },
  {
   "cell_type": "markdown",
   "metadata": {
    "slideshow": {
     "slide_type": "fragment"
    }
   },
   "source": [
    "The result above can be generalized for any constant and uniform force such that $\\vec{F}\\cdot\\vec{B} = 0$:\n",
    "\n",
    "$$ \\vec{v}_{d} = \\frac{\\vec{F}\\times\\vec{B}}{q B^2}$$\n",
    "\n",
    "In particular, for the gravitational field, we have a drift \n",
    "\n",
    "$$\\vec{v}_g = \\frac{m}{q}\\frac{\\vec{g}\\times\\vec{B}}{B^2}$$\n",
    "\n",
    "In this case **the direction of drift depends on the signal of** $q \\Rightarrow$ for positive and negative charges, we have a current!"
   ]
  },
  {
   "cell_type": "markdown",
   "metadata": {
    "slideshow": {
     "slide_type": "slide"
    }
   },
   "source": [
    "# Appendix - Useful vector formulae"
   ]
  },
  {
   "cell_type": "markdown",
   "metadata": {
    "slideshow": {
     "slide_type": "fragment"
    }
   },
   "source": [
    "$$ \\vec{A}\\times(\\vec{B}\\times\\vec{C}) = (\\vec{A}\\cdot\\vec{C})\\vec{B}-(\\vec{A}\\cdot\\vec{B})\\vec{C} $$"
   ]
  }
 ],
 "metadata": {
  "celltoolbar": "Slideshow",
  "kernelspec": {
   "display_name": "Python 3",
   "language": "python",
   "name": "python3"
  },
  "language_info": {
   "codemirror_mode": {
    "name": "ipython",
    "version": 3
   },
   "file_extension": ".py",
   "mimetype": "text/x-python",
   "name": "python",
   "nbconvert_exporter": "python",
   "pygments_lexer": "ipython3",
   "version": "3.8.8"
  }
 },
 "nbformat": 4,
 "nbformat_minor": 4
}
